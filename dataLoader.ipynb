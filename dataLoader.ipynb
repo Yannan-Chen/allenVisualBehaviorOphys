{
  "nbformat": 4,
  "nbformat_minor": 0,
  "metadata": {
    "colab": {
      "name": "Untitled2.ipynb",
      "provenance": [],
      "authorship_tag": "ABX9TyOW3yur5nSeK7vpR5yMhmIE",
      "include_colab_link": true
    },
    "kernelspec": {
      "name": "python3",
      "display_name": "Python 3"
    },
    "language_info": {
      "name": "python"
    }
  },
  "cells": [
    {
      "cell_type": "markdown",
      "metadata": {
        "id": "view-in-github",
        "colab_type": "text"
      },
      "source": [
        "<a href=\"https://colab.research.google.com/github/Yannan-Chen/allenVisualBehaviorOphys/blob/main/dataLoader.ipynb\" target=\"_parent\"><img src=\"https://colab.research.google.com/assets/colab-badge.svg\" alt=\"Open In Colab\"/></a>"
      ]
    },
    {
      "cell_type": "code",
      "execution_count": null,
      "metadata": {
        "colab": {
          "base_uri": "https://localhost:8080/"
        },
        "id": "Kk6bJZuSN7OB",
        "outputId": "c0f02fdb-f46a-4c17-b967-4f35531bbf3d"
      },
      "outputs": [
        {
          "output_type": "stream",
          "name": "stdout",
          "text": [
            "\u001b[33mWARNING: Running pip as the 'root' user can result in broken permissions and conflicting behaviour with the system package manager. It is recommended to use a virtual environment instead: https://pip.pypa.io/warnings/venv\u001b[0m\u001b[33m\n",
            "\u001b[0m\u001b[33mWARNING: Running pip as the 'root' user can result in broken permissions and conflicting behaviour with the system package manager. It is recommended to use a virtual environment instead: https://pip.pypa.io/warnings/venv\u001b[0m\u001b[33m\n",
            "\u001b[0m\u001b[33mWARNING: Running pip as the 'root' user can result in broken permissions and conflicting behaviour with the system package manager. It is recommended to use a virtual environment instead: https://pip.pypa.io/warnings/venv\u001b[0m\u001b[33m\n",
            "\u001b[0m\u001b[33mWARNING: Running pip as the 'root' user can result in broken permissions and conflicting behaviour with the system package manager. It is recommended to use a virtual environment instead: https://pip.pypa.io/warnings/venv\u001b[0m\u001b[33m\n",
            "\u001b[0m"
          ]
        }
      ],
      "source": [
        "# @title Install packages\n",
        "!pip install pip --upgrade --quiet\n",
        "!pip install mindscope_utilities --quiet\n",
        "!pip install pandas --quiet\n",
        "!pip install seaborn --quiet"
      ]
    },
    {
      "cell_type": "code",
      "source": [
        "import os\n",
        "import numpy as np\n",
        "import pandas as pd\n",
        "from tqdm import tqdm\n",
        "import seaborn as sns\n",
        "import matplotlib.pyplot as plt\n",
        "\n",
        "from sklearn import svm\n",
        "from sklearn.model_selection import train_test_split\n",
        "from sklearn.metrics import confusion_matrix, accuracy_score\n",
        "from sklearn.manifold import TSNE\n",
        "\n",
        "import mindscope_utilities\n",
        "import mindscope_utilities.visual_behavior_ophys as ophys\n",
        "\n",
        "from allensdk.brain_observatory.behavior.behavior_project_cache import VisualBehaviorOphysProjectCache\n",
        "\n",
        "pd.set_option('display.max_columns', 500)"
      ],
      "metadata": {
        "id": "fCRrAF2zN9Oe"
      },
      "execution_count": null,
      "outputs": []
    },
    {
      "cell_type": "code",
      "source": [
        "data_storage_directory = \"/temp\"  # Note: this path must exist on your local drive\n",
        "cache = VisualBehaviorOphysProjectCache.from_s3_cache(cache_dir=data_storage_directory)"
      ],
      "metadata": {
        "colab": {
          "base_uri": "https://localhost:8080/"
        },
        "id": "gQvUFoBmN_Ff",
        "outputId": "44cac3f5-d674-473e-f10e-d2f888acdac8"
      },
      "execution_count": null,
      "outputs": [
        {
          "output_type": "stream",
          "name": "stderr",
          "text": [
            "ophys_session_table.csv: 100%|██████████| 227k/227k [00:00<00:00, 1.59MMB/s] \n",
            "behavior_session_table.csv: 100%|██████████| 1.21M/1.21M [00:00<00:00, 6.98MMB/s]\n",
            "ophys_experiment_table.csv: 100%|██████████| 610k/610k [00:00<00:00, 4.02MMB/s] \n",
            "ophys_cells_table.csv: 100%|██████████| 4.29M/4.29M [00:00<00:00, 12.9MMB/s]\n"
          ]
        }
      ]
    },
    {
      "cell_type": "code",
      "source": [
        "session_table = cache.get_ophys_session_table()\n",
        "experiment_table = cache.get_ophys_experiment_table()"
      ],
      "metadata": {
        "id": "zrefMfkiOCkt"
      },
      "execution_count": null,
      "outputs": []
    },
    {
      "cell_type": "code",
      "source": [
        "print('SST', np.sum(['Sst' in session_table.loc[i].driver_line[0] for i in session_table.index]))\n",
        "print('Slc', np.sum(['Slc' in session_table.loc[i].driver_line[0] for i in session_table.index]))\n",
        "print('Vip', np.sum(['Vip' in session_table.loc[i].driver_line[0] for i in session_table.index]))"
      ],
      "metadata": {
        "colab": {
          "base_uri": "https://localhost:8080/"
        },
        "id": "SI2HPWLhODlg",
        "outputId": "151de5b9-cf77-4b67-c2b9-db2dcb5e8079"
      },
      "execution_count": null,
      "outputs": [
        {
          "output_type": "stream",
          "name": "stdout",
          "text": [
            "SST 158\n",
            "Slc 361\n",
            "Vip 186\n"
          ]
        }
      ]
    },
    {
      "cell_type": "code",
      "source": [
        "experiments = {}\n",
        "ophys_experiment_ids = session_table.loc[ophys_session_id]['ophys_experiment_id']\n",
        "for ophys_experiment_id in ophys_experiment_ids:\n",
        "  experiments[ophys_experiment_id] = cache.get_behavior_ophys_experiment(ophys_experiment_id)"
      ],
      "metadata": {
        "id": "MhyROAOpRmNd"
      },
      "execution_count": null,
      "outputs": []
    }
  ]
}