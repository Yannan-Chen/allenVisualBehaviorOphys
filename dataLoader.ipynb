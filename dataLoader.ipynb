{
  "nbformat": 4,
  "nbformat_minor": 0,
  "metadata": {
    "colab": {
      "name": "Untitled2.ipynb",
      "provenance": [],
      "authorship_tag": "ABX9TyNFK5vuzefIzHojhTdoF1aU",
      "include_colab_link": true
    },
    "kernelspec": {
      "name": "python3",
      "display_name": "Python 3"
    },
    "language_info": {
      "name": "python"
    }
  },
  "cells": [
    {
      "cell_type": "markdown",
      "metadata": {
        "id": "view-in-github",
        "colab_type": "text"
      },
      "source": [
        "<a href=\"https://colab.research.google.com/github/Yannan-Chen/allenVisualBehaviorOphys/blob/main/dataLoader.ipynb\" target=\"_parent\"><img src=\"https://colab.research.google.com/assets/colab-badge.svg\" alt=\"Open In Colab\"/></a>"
      ]
    },
    {
      "cell_type": "code",
      "execution_count": 2,
      "metadata": {
        "colab": {
          "base_uri": "https://localhost:8080/"
        },
        "id": "Kk6bJZuSN7OB",
        "outputId": "e8214763-4120-4a6e-94f1-2b2b04c28e86"
      },
      "outputs": [
        {
          "output_type": "stream",
          "name": "stdout",
          "text": [
            "\u001b[33mWARNING: Running pip as the 'root' user can result in broken permissions and conflicting behaviour with the system package manager. It is recommended to use a virtual environment instead: https://pip.pypa.io/warnings/venv\u001b[0m\u001b[33m\n",
            "\u001b[0m\u001b[33mWARNING: Running pip as the 'root' user can result in broken permissions and conflicting behaviour with the system package manager. It is recommended to use a virtual environment instead: https://pip.pypa.io/warnings/venv\u001b[0m\u001b[33m\n",
            "\u001b[0m\u001b[33mWARNING: Running pip as the 'root' user can result in broken permissions and conflicting behaviour with the system package manager. It is recommended to use a virtual environment instead: https://pip.pypa.io/warnings/venv\u001b[0m\u001b[33m\n",
            "\u001b[0m\u001b[33mWARNING: Running pip as the 'root' user can result in broken permissions and conflicting behaviour with the system package manager. It is recommended to use a virtual environment instead: https://pip.pypa.io/warnings/venv\u001b[0m\u001b[33m\n",
            "\u001b[0m"
          ]
        }
      ],
      "source": [
        "# @title Install packages\n",
        "!pip install pip --upgrade --quiet\n",
        "!pip install mindscope_utilities --quiet\n",
        "!pip install pandas --quiet\n",
        "!pip install seaborn --quiet"
      ]
    },
    {
      "cell_type": "code",
      "source": [
        "import os\n",
        "import numpy as np\n",
        "import pandas as pd\n",
        "from tqdm import tqdm\n",
        "import seaborn as sns\n",
        "import matplotlib.pyplot as plt\n",
        "\n",
        "from sklearn import svm\n",
        "from sklearn.model_selection import train_test_split\n",
        "from sklearn.metrics import confusion_matrix, accuracy_score\n",
        "from sklearn.manifold import TSNE\n",
        "\n",
        "import mindscope_utilities\n",
        "import mindscope_utilities.visual_behavior_ophys as ophys\n",
        "\n",
        "from allensdk.brain_observatory.behavior.behavior_project_cache import VisualBehaviorOphysProjectCache\n",
        "\n",
        "pd.set_option('display.max_columns', 500)"
      ],
      "metadata": {
        "id": "fCRrAF2zN9Oe"
      },
      "execution_count": 3,
      "outputs": []
    },
    {
      "cell_type": "code",
      "source": [
        "data_storage_directory = \"/temp\"  # Note: this path must exist on your local drive\n",
        "cache = VisualBehaviorOphysProjectCache.from_s3_cache(cache_dir=data_storage_directory)"
      ],
      "metadata": {
        "colab": {
          "base_uri": "https://localhost:8080/"
        },
        "id": "gQvUFoBmN_Ff",
        "outputId": "5c71bc60-7647-4c16-9885-27f4241befc0"
      },
      "execution_count": 4,
      "outputs": [
        {
          "output_type": "stream",
          "name": "stderr",
          "text": [
            "ophys_session_table.csv: 100%|██████████| 227k/227k [00:00<00:00, 1.14MMB/s] \n",
            "behavior_session_table.csv: 100%|██████████| 1.21M/1.21M [00:00<00:00, 5.29MMB/s]\n",
            "ophys_experiment_table.csv: 100%|██████████| 610k/610k [00:00<00:00, 2.96MMB/s] \n",
            "ophys_cells_table.csv: 100%|██████████| 4.29M/4.29M [00:00<00:00, 8.94MMB/s]\n"
          ]
        }
      ]
    },
    {
      "cell_type": "code",
      "source": [
        "session_table = cache.get_ophys_session_table()\n",
        "experiment_table = cache.get_ophys_experiment_table()"
      ],
      "metadata": {
        "id": "zrefMfkiOCkt"
      },
      "execution_count": 5,
      "outputs": []
    },
    {
      "cell_type": "code",
      "source": [
        "session_sst = session_table[['Sst' in session_table.loc[i].driver_line[0] for i in session_table.index]]\n",
        "session_slc = session_table[['Slc' in session_table.loc[i].driver_line[0] for i in session_table.index]]\n",
        "session_vip = session_table[['Vip' in session_table.loc[i].driver_line[0] for i in session_table.index]]\n",
        "\n",
        "print('SST', len(session_sst))\n",
        "print('Slc', len(session_slc))\n",
        "print('Vip', len(session_vip))"
      ],
      "metadata": {
        "colab": {
          "base_uri": "https://localhost:8080/"
        },
        "id": "SI2HPWLhODlg",
        "outputId": "2a5cb190-540f-48f4-8af1-372d5a87092d"
      },
      "execution_count": 19,
      "outputs": [
        {
          "output_type": "stream",
          "name": "stdout",
          "text": [
            "SST 158\n",
            "Slc 361\n",
            "Vip 186\n"
          ]
        }
      ]
    },
    {
      "cell_type": "code",
      "source": [
        "ophys_session_id = 854060305\n"
      ],
      "metadata": {
        "id": "f7toYqEGiEdC"
      },
      "execution_count": 20,
      "outputs": []
    },
    {
      "cell_type": "code",
      "source": [
        "neural_data = []\n",
        "ophys_experiment_ids = session_table.loc[ophys_session_id]['ophys_experiment_id']\n",
        "for ophys_experiment_id in ophys_experiment_ids:\n",
        "  this_experiment = cache.get_behavior_ophys_experiment(ophys_experiment_id)\n",
        "\n",
        "  this_experiment_neural_data = ophys.build_tidy_cell_df(this_experiment)\n",
        "\n",
        "  # add some columns with metadata for the experiment\n",
        "  metadata_keys = [\n",
        "      'ophys_experiment_id',\n",
        "      'ophys_session_id',\n",
        "      'targeted_structure',\n",
        "      'imaging_depth',\n",
        "      'equipment_name',\n",
        "      'cre_line',\n",
        "      'mouse_id',\n",
        "      'sex',\n",
        "  ]\n",
        "  for metadata_key in metadata_keys:\n",
        "    this_experiment_neural_data[metadata_key] = this_experiment.metadata[metadata_key]\n",
        "\n",
        "  # append the data for this experiment to a list\n",
        "  neural_data.append(this_experiment_neural_data)\n",
        "\n",
        "# concatate the list of dataframes into a single dataframe\n",
        "neural_data = pd.concat(neural_data)\n"
      ],
      "metadata": {
        "id": "MhyROAOpRmNd",
        "colab": {
          "base_uri": "https://localhost:8080/"
        },
        "outputId": "bb9066ba-fd78-4220-d59e-d0a9b3860b63"
      },
      "execution_count": 21,
      "outputs": [
        {
          "output_type": "stream",
          "name": "stderr",
          "text": [
            "behavior_ophys_experiment_854759890.nwb: 100%|██████████| 233M/233M [00:15<00:00, 15.4MMB/s]\n",
            "behavior_ophys_experiment_854759894.nwb: 100%|██████████| 255M/255M [00:16<00:00, 15.7MMB/s]\n",
            "behavior_ophys_experiment_854759896.nwb: 100%|██████████| 240M/240M [00:16<00:00, 14.8MMB/s]\n",
            "behavior_ophys_experiment_854759898.nwb: 100%|██████████| 259M/259M [00:17<00:00, 14.5MMB/s]\n",
            "behavior_ophys_experiment_854759900.nwb: 100%|██████████| 242M/242M [00:15<00:00, 15.6MMB/s]\n",
            "behavior_ophys_experiment_854759903.nwb: 100%|██████████| 254M/254M [00:17<00:00, 14.7MMB/s]\n"
          ]
        }
      ]
    }
  ]
}